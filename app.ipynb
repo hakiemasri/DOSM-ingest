{
 "cells": [
  {
   "cell_type": "code",
   "execution_count": 1,
   "id": "0e6a2abd",
   "metadata": {},
   "outputs": [],
   "source": [
    "from flask import Flask, render_template, request,redirect, url_for\n",
    "import sqlite3\n",
    "import math\n",
    "from flask_sqlalchemy import SQLAlchemy\n",
    "from sqlalchemy import text\n",
    "from urllib.parse import urlparse, parse_qs, urlencode, urlunparse\n",
    "from flask import abort\n",
    "\n"
   ]
  },
  {
   "cell_type": "code",
   "execution_count": 2,
   "id": "435cc02f",
   "metadata": {},
   "outputs": [],
   "source": [
    "app = Flask(__name__)\n",
    "app.config['STATIC_FOLDER'] = 'static'\n",
    "\n",
    "conn = sqlite3.connect('DOSM.db')\n"
   ]
  },
  {
   "cell_type": "code",
   "execution_count": 3,
   "id": "aaadf29a",
   "metadata": {},
   "outputs": [],
   "source": [
    "# render home.html\n",
    "@app.route('/')\n",
    "def home():\n",
    "    return render_template('home.html')\n",
    "\n"
   ]
  },
  {
   "cell_type": "code",
   "execution_count": 4,
   "id": "667d9f99",
   "metadata": {},
   "outputs": [],
   "source": [
    "from flask import Flask, render_template, request,redirect, url_for\n",
    "\n",
    "\n",
    "@app.route('/result', methods=['POST', 'GET'])\n",
    "def result():\n",
    "    \n",
    "    SQLALCHEMY_ECHO=True\n",
    "    \n",
    "\n",
    "    if request.method == 'POST':\n",
    "        item_category = request.form.get('item_category')\n",
    "        year = request.form.get('year')\n",
    "        month = request.form.get('month')\n",
    "        day = request.form.get('day')\n",
    "    \n",
    "    elif request.method == 'GET':\n",
    "        item_category = request.args.get('item_category', default='', type=str)\n",
    "        year = request.args.get('year', default='', type=str)\n",
    "        month = request.args.get('month', default='', type=str)\n",
    "        day = request.args.get('day', default='', type=str)\n",
    "        \n",
    "    \n",
    "    # Split the input values if there are multiple selections\n",
    "    item_category = item_category.split(\",\") if item_category else []\n",
    "    month_list = month.split(\",\") if month else []\n",
    "    year_list = year.split(\",\") if year else []\n",
    "    day_list = day.split(\",\") if day else []\n",
    "    \n",
    "    print(f\"item_category: {item_category}\")\n",
    "    print(f\"month: {month}\")\n",
    "    print(f\"year: {year}\")\n",
    "    print(f\"day: {day}\")\n",
    "    print(request.method)\n",
    "    \n",
    "    # Validate user input\n",
    "    if month and (not month.isdigit() or int(month) < 1 or int(month) > 12):\n",
    "        abort(400, \"Invalid value for month\")\n",
    "    if year and (not year.isdigit() or int(year) < 0):\n",
    "        abort(400, \"Invalid value for year\")\n",
    "    if int(year) not in [2022, 2023]:\n",
    "        abort(400, \"Year should be either 2022 or 2023\")\n",
    "    if day and (not day.isdigit() or int(day) < 1 or int(day) > 31):\n",
    "        abort(400, \"Invalid value for day\")\n",
    "\n",
    "    # Connect to the database\n",
    "    conn = sqlite3.connect('DOSM.db')\n",
    "    c = conn.cursor()\n",
    "\n",
    "    # Set the base query\n",
    "    query = \"SELECT item, price, unit, item_group, item_category, premise, premise_type, state, district, address, date \" \\\n",
    "            \"FROM Price \" \\\n",
    "            \"JOIN Item ON Price.item_code = Item.item_code \" \\\n",
    "            \"JOIN Premise ON Price.premise_code = Premise.premise_code \" \\\n",
    "            \"WHERE 1 = 1 \"\n",
    "\n",
    "    # Add filters for item category, month, year, and day\n",
    "    query_params = []\n",
    "    if item_category:\n",
    "        # Use the IN operator to filter by multiple categories\n",
    "        query += f\"AND item_category IN ({','.join(['?' for _ in range(len(item_category))])}) \"\n",
    "        query_params.extend(item_category)\n",
    "    if month:\n",
    "        if len(month_list) == 1:\n",
    "            query += \"AND month = ? \"\n",
    "            query_params.append(month)\n",
    "        elif len(month_list) == 2:\n",
    "            query += \"AND month BETWEEN ? AND ? \"\n",
    "            query_params.extend(month_list)\n",
    "    if year:\n",
    "        if len(year_list) == 1:\n",
    "            query += \"AND year = ? \"\n",
    "            query_params.append(year)\n",
    "        elif len(year_list) == 2:\n",
    "            query += \"AND year BETWEEN ? AND ? \"\n",
    "            query_params.extend(year_list)\n",
    "    if day:\n",
    "        if len(day_list) == 1:\n",
    "            query += \"AND day = ? \"\n",
    "            query_params.append(day)\n",
    "        elif len(day_list) == 2:\n",
    "            query += \"AND day BETWEEN ? AND ? \"\n",
    "            query_params.extend(day_list)\n",
    "\n",
    "    # Get the count of total records for pagination\n",
    "    c.execute(f\"SELECT COUNT(*) FROM ({query})\", query_params)\n",
    "    total_count = c.fetchone()[0]\n",
    "    \n",
    "   \n",
    "            \n",
    "    # Execute the query with the parameters\n",
    "    result = []\n",
    "    page = request.args.get('page',1, type=int)\n",
    "    per_page = request.args.get('per_page', 50, type=int)\n",
    "    \n",
    "    query += \"ORDER BY date DESC\"\n",
    "    query += f\" LIMIT {per_page} OFFSET {(page-1)*per_page}\"\n",
    "    \n",
    "    \n",
    "    total_pages = math.ceil(total_count / per_page)\n",
    "    \n",
    "   \n",
    "\n",
    "\n",
    "    c.execute(query, query_params)\n",
    "    result = c.fetchall()\n",
    "    # Include the input values as query parameters in the URL when the form is submitted\n",
    "    \n",
    "\n",
    "\n",
    "    print(f\"query: {query}\")\n",
    "    print(f\"query_params:{query_params}\")\n",
    "    print(f\"total_count:{total_count}\")\n",
    "    print(f\"page:{page}\")\n",
    "    print(f\"per_page:{per_page}\")\n",
    "        \n",
    "    # Close the database connection\n",
    "    conn.close()\n",
    "    \n",
    "   \n",
    "    # Render the result.html template with the query result and pagination information\n",
    "    return render_template('result.html', result=result, page=page, per_page=per_page, total_count=total_count, total_pages=total_pages,item_category=item_category,year=year,day=day,month=month)\n",
    "\n"
   ]
  },
  {
   "cell_type": "code",
   "execution_count": null,
   "id": "3a97ee31",
   "metadata": {
    "scrolled": true
   },
   "outputs": [
    {
     "name": "stdout",
     "output_type": "stream",
     "text": [
      " * Serving Flask app '__main__'\n",
      " * Debug mode: on\n"
     ]
    },
    {
     "name": "stderr",
     "output_type": "stream",
     "text": [
      "WARNING: This is a development server. Do not use it in a production deployment. Use a production WSGI server instead.\n",
      " * Running on http://127.0.0.1:5000\n",
      "Press CTRL+C to quit\n",
      "127.0.0.1 - - [24/Mar/2023 14:20:24] \"GET / HTTP/1.1\" 200 -\n",
      "127.0.0.1 - - [24/Mar/2023 14:20:24] \"GET / HTTP/1.1\" 200 -\n",
      "127.0.0.1 - - [24/Mar/2023 14:20:30] \"POST /result HTTP/1.1\" 400 -\n",
      "127.0.0.1 - - [24/Mar/2023 14:20:31] \"GET /result HTTP/1.1\" 500 -\n"
     ]
    },
    {
     "name": "stdout",
     "output_type": "stream",
     "text": [
      "item_category: ['AYAM']\n",
      "month: 12\n",
      "year: 1\n",
      "day: 213321\n",
      "POST\n",
      "item_category: []\n",
      "month: \n",
      "year: \n",
      "day: \n",
      "GET\n"
     ]
    },
    {
     "name": "stderr",
     "output_type": "stream",
     "text": [
      "Traceback (most recent call last):\n",
      "  File \"C:\\Users\\User\\AppData\\Roaming\\Python\\Python39\\site-packages\\flask\\app.py\", line 2551, in __call__\n",
      "    return self.wsgi_app(environ, start_response)\n",
      "  File \"C:\\Users\\User\\AppData\\Roaming\\Python\\Python39\\site-packages\\flask\\app.py\", line 2531, in wsgi_app\n",
      "    response = self.handle_exception(e)\n",
      "  File \"C:\\Users\\User\\AppData\\Roaming\\Python\\Python39\\site-packages\\flask\\app.py\", line 2528, in wsgi_app\n",
      "    response = self.full_dispatch_request()\n",
      "  File \"C:\\Users\\User\\AppData\\Roaming\\Python\\Python39\\site-packages\\flask\\app.py\", line 1825, in full_dispatch_request\n",
      "    rv = self.handle_user_exception(e)\n",
      "  File \"C:\\Users\\User\\AppData\\Roaming\\Python\\Python39\\site-packages\\flask\\app.py\", line 1823, in full_dispatch_request\n",
      "    rv = self.dispatch_request()\n",
      "  File \"C:\\Users\\User\\AppData\\Roaming\\Python\\Python39\\site-packages\\flask\\app.py\", line 1799, in dispatch_request\n",
      "    return self.ensure_sync(self.view_functions[rule.endpoint])(**view_args)\n",
      "  File \"C:\\Users\\User\\AppData\\Local\\Temp\\ipykernel_9440\\1018447895.py\", line 40, in result\n",
      "    if int(year) not in [2022, 2023]:\n",
      "ValueError: invalid literal for int() with base 10: ''\n",
      "127.0.0.1 - - [24/Mar/2023 14:20:40] \"POST /result HTTP/1.1\" 400 -\n",
      "127.0.0.1 - - [24/Mar/2023 14:20:40] \"GET /result HTTP/1.1\" 500 -\n"
     ]
    },
    {
     "name": "stdout",
     "output_type": "stream",
     "text": [
      "item_category: ['AYAM']\n",
      "month: 322\n",
      "year: 2022\n",
      "day: 213321\n",
      "POST\n",
      "item_category: []\n",
      "month: \n",
      "year: \n",
      "day: \n",
      "GET\n"
     ]
    },
    {
     "name": "stderr",
     "output_type": "stream",
     "text": [
      "Traceback (most recent call last):\n",
      "  File \"C:\\Users\\User\\AppData\\Roaming\\Python\\Python39\\site-packages\\flask\\app.py\", line 2551, in __call__\n",
      "    return self.wsgi_app(environ, start_response)\n",
      "  File \"C:\\Users\\User\\AppData\\Roaming\\Python\\Python39\\site-packages\\flask\\app.py\", line 2531, in wsgi_app\n",
      "    response = self.handle_exception(e)\n",
      "  File \"C:\\Users\\User\\AppData\\Roaming\\Python\\Python39\\site-packages\\flask\\app.py\", line 2528, in wsgi_app\n",
      "    response = self.full_dispatch_request()\n",
      "  File \"C:\\Users\\User\\AppData\\Roaming\\Python\\Python39\\site-packages\\flask\\app.py\", line 1825, in full_dispatch_request\n",
      "    rv = self.handle_user_exception(e)\n",
      "  File \"C:\\Users\\User\\AppData\\Roaming\\Python\\Python39\\site-packages\\flask\\app.py\", line 1823, in full_dispatch_request\n",
      "    rv = self.dispatch_request()\n",
      "  File \"C:\\Users\\User\\AppData\\Roaming\\Python\\Python39\\site-packages\\flask\\app.py\", line 1799, in dispatch_request\n",
      "    return self.ensure_sync(self.view_functions[rule.endpoint])(**view_args)\n",
      "  File \"C:\\Users\\User\\AppData\\Local\\Temp\\ipykernel_9440\\1018447895.py\", line 40, in result\n",
      "    if int(year) not in [2022, 2023]:\n",
      "ValueError: invalid literal for int() with base 10: ''\n"
     ]
    },
    {
     "name": "stdout",
     "output_type": "stream",
     "text": [
      "item_category: ['AYAM']\n",
      "month: 12\n",
      "year: 2022\n",
      "day: 1\n",
      "POST\n"
     ]
    },
    {
     "name": "stderr",
     "output_type": "stream",
     "text": [
      "127.0.0.1 - - [24/Mar/2023 14:20:49] \"POST /result HTTP/1.1\" 200 -\n",
      "127.0.0.1 - - [24/Mar/2023 14:20:49] \"GET /result HTTP/1.1\" 500 -\n"
     ]
    },
    {
     "name": "stdout",
     "output_type": "stream",
     "text": [
      "query: SELECT item, price, unit, item_group, item_category, premise, premise_type, state, district, address, date FROM Price JOIN Item ON Price.item_code = Item.item_code JOIN Premise ON Price.premise_code = Premise.premise_code WHERE 1 = 1 AND item_category IN (?) AND month = ? AND year = ? AND day = ? ORDER BY date DESC LIMIT 50 OFFSET 0\n",
      "query_params:['AYAM', '12', '2022', '1']\n",
      "total_count:29115\n",
      "page:1\n",
      "per_page:50\n",
      "item_category: []\n",
      "month: \n",
      "year: \n",
      "day: \n",
      "GET\n"
     ]
    },
    {
     "name": "stderr",
     "output_type": "stream",
     "text": [
      "Traceback (most recent call last):\n",
      "  File \"C:\\Users\\User\\AppData\\Roaming\\Python\\Python39\\site-packages\\flask\\app.py\", line 2551, in __call__\n",
      "    return self.wsgi_app(environ, start_response)\n",
      "  File \"C:\\Users\\User\\AppData\\Roaming\\Python\\Python39\\site-packages\\flask\\app.py\", line 2531, in wsgi_app\n",
      "    response = self.handle_exception(e)\n",
      "  File \"C:\\Users\\User\\AppData\\Roaming\\Python\\Python39\\site-packages\\flask\\app.py\", line 2528, in wsgi_app\n",
      "    response = self.full_dispatch_request()\n",
      "  File \"C:\\Users\\User\\AppData\\Roaming\\Python\\Python39\\site-packages\\flask\\app.py\", line 1825, in full_dispatch_request\n",
      "    rv = self.handle_user_exception(e)\n",
      "  File \"C:\\Users\\User\\AppData\\Roaming\\Python\\Python39\\site-packages\\flask\\app.py\", line 1823, in full_dispatch_request\n",
      "    rv = self.dispatch_request()\n",
      "  File \"C:\\Users\\User\\AppData\\Roaming\\Python\\Python39\\site-packages\\flask\\app.py\", line 1799, in dispatch_request\n",
      "    return self.ensure_sync(self.view_functions[rule.endpoint])(**view_args)\n",
      "  File \"C:\\Users\\User\\AppData\\Local\\Temp\\ipykernel_9440\\1018447895.py\", line 40, in result\n",
      "    if int(year) not in [2022, 2023]:\n",
      "ValueError: invalid literal for int() with base 10: ''\n",
      "127.0.0.1 - - [24/Mar/2023 14:20:50] \"GET /static/css/style.css HTTP/1.1\" 304 -\n"
     ]
    }
   ],
   "source": [
    "if __name__ == '__main__':\n",
    "    app.run(debug=True, use_reloader=False)"
   ]
  },
  {
   "cell_type": "code",
   "execution_count": null,
   "id": "c83d39aa",
   "metadata": {},
   "outputs": [],
   "source": []
  }
 ],
 "metadata": {
  "kernelspec": {
   "display_name": "Python 3 (ipykernel)",
   "language": "python",
   "name": "python3"
  },
  "language_info": {
   "codemirror_mode": {
    "name": "ipython",
    "version": 3
   },
   "file_extension": ".py",
   "mimetype": "text/x-python",
   "name": "python",
   "nbconvert_exporter": "python",
   "pygments_lexer": "ipython3",
   "version": "3.9.13"
  }
 },
 "nbformat": 4,
 "nbformat_minor": 5
}
