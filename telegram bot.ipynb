{
 "cells": [
  {
   "cell_type": "code",
   "execution_count": 1,
   "id": "1ddaa661",
   "metadata": {},
   "outputs": [
    {
     "name": "stdout",
     "output_type": "stream",
     "text": [
      "{'ok': True, 'result': {'message_id': 29, 'from': {'id': 6078066145, 'is_bot': True, 'first_name': 'DOSM_ALERT', 'username': 'DOSM_ALERTbot'}, 'chat': {'id': -1001944537404, 'title': 'Dosmalertgrp', 'username': 'dosmalrtgrp', 'type': 'supergroup'}, 'date': 1679841359, 'text': 'TEST FROM PYTHON'}}\n"
     ]
    }
   ],
   "source": [
    "# The challenge is to catch the chat_id, needs some debugging from 'getupdates' from telegram API\n",
    "# This is just a test script for AIRFLOW implementation in airflow\\dags\\ingest_and_alert.py \n",
    "import requests\n",
    "\n",
    "# https://api.telegram.org/bot6078066145:AAEBXCfKpPRZXQh1wkDPwa6hEMZBywXsqbE/getUpdates    \n",
    "\n",
    "def alert(text):\n",
    "    token = \"6078066145:AAEBXCfKpPRZXQh1wkDPwa6hEMZBywXsqbE\"\n",
    "#   group id \n",
    "    chat_id = \"-1001944537404\" \n",
    "    url_req = \"https://api.telegram.org/bot\" + token + \"/sendmessage\" + \"?chat_id=\" + chat_id + \"&text=\" + text\n",
    "\n",
    "    sendtext = requests.get(url_req)\n",
    "    print(sendtext.json())\n",
    "    \n",
    "    \n",
    "    \n",
    "alert('TEST FROM PYTHON')\n",
    "\n",
    "\n"
   ]
  },
  {
   "cell_type": "code",
   "execution_count": null,
   "id": "76647d75",
   "metadata": {},
   "outputs": [],
   "source": []
  }
 ],
 "metadata": {
  "kernelspec": {
   "display_name": "Python 3 (ipykernel)",
   "language": "python",
   "name": "python3"
  },
  "language_info": {
   "codemirror_mode": {
    "name": "ipython",
    "version": 3
   },
   "file_extension": ".py",
   "mimetype": "text/x-python",
   "name": "python",
   "nbconvert_exporter": "python",
   "pygments_lexer": "ipython3",
   "version": "3.9.13"
  }
 },
 "nbformat": 4,
 "nbformat_minor": 5
}
