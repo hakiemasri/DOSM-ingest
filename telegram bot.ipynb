{
 "cells": [
  {
   "cell_type": "code",
   "execution_count": null,
   "id": "1ddaa661",
   "metadata": {},
   "outputs": [],
   "source": [
    "import requests\n",
    "\n",
    "# https://api.telegram.org/bot6078066145:AAEBXCfKpPRZXQh1wkDPwa6hEMZBywXsqbE/getUpdates    \n",
    "\n",
    "def alert(text):\n",
    "    token = \"6078066145:AAEBXCfKpPRZXQh1wkDPwa6hEMZBywXsqbE\"\n",
    "#   group id \n",
    "    chat_id = \"-1001944537404\" \n",
    "    url_req = \"https://api.telegram.org/bot\" + token + \"/sendmessage\" + \"?chat_id=\" + chat_id + \"&text=\" + text\n",
    "\n",
    "    sendtext = requests.get(url_req)\n",
    "    print(sendtext.json())\n",
    "    \n",
    "    \n",
    "    \n",
    "alert('TEST FROM PYTHON')\n",
    "\n",
    "\n"
   ]
  },
  {
   "cell_type": "code",
   "execution_count": null,
   "id": "76647d75",
   "metadata": {},
   "outputs": [],
   "source": []
  }
 ],
 "metadata": {
  "kernelspec": {
   "display_name": "Python 3 (ipykernel)",
   "language": "python",
   "name": "python3"
  },
  "language_info": {
   "codemirror_mode": {
    "name": "ipython",
    "version": 3
   },
   "file_extension": ".py",
   "mimetype": "text/x-python",
   "name": "python",
   "nbconvert_exporter": "python",
   "pygments_lexer": "ipython3",
   "version": "3.9.13"
  }
 },
 "nbformat": 4,
 "nbformat_minor": 5
}
