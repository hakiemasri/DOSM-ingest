{
 "cells": [
  {
   "cell_type": "code",
   "execution_count": 1,
   "id": "c641ae6c",
   "metadata": {},
   "outputs": [],
   "source": [
    "# The challenges for this part is to create a function that ingest the price catcher file from now, until 2022 january.\n",
    "# The challenge is how to lessen the processing time, where the function would ingest all table from start.\n",
    "# So another table is to store url that are already ingested to save processing time. \n",
    "\n",
    "\n",
    "import pandas as pd\n",
    "import sqlite3\n",
    "import datetime\n",
    "import requests\n",
    "import io\n",
    "import pyarrow.parquet as pq\n",
    "\n"
   ]
  },
  {
   "cell_type": "code",
   "execution_count": 2,
   "id": "89f92917",
   "metadata": {},
   "outputs": [],
   "source": [
    "   \n",
    "def ingest_pricecatcher_data(conn):\n",
    "    # create a table to keep track of ingested URLs\n",
    "    conn.execute('''CREATE TABLE IF NOT EXISTS IngestedURLs\n",
    "                     (url TEXT PRIMARY KEY, timestamp DATETIME DEFAULT CURRENT_TIMESTAMP)''')\n",
    "\n",
    "    # get current date\n",
    "    now = datetime.datetime.now()\n",
    "\n",
    "    # create list of URLs for all pricecatcher files from current date back to January 2022\n",
    "    urls = []\n",
    "    while now.year >= 2022 and now.month >= 1:\n",
    "        url = f'https://storage.googleapis.com/dosm-public-pricecatcher/pricecatcher_{now.year}-{now.month:02}.parquet'\n",
    "        urls.append(url)\n",
    "        \n",
    "\n",
    "\n",
    "        # adjust year and month if month is out of range\n",
    "        if now.month == 1:\n",
    "            now = now.replace(year=now.year-1, month=12)\n",
    "        else:\n",
    "            now = now.replace(month=now.month-1)\n",
    "\n",
    "    urls.reverse()\n",
    "\n",
    "    # iterate over URLs and append each file to the Price table in SQLite\n",
    "    for url in urls:\n",
    "        # check if URL has already been ingested\n",
    "        result = conn.execute(f\"SELECT url FROM IngestedURLs WHERE url='{url}'\").fetchone()\n",
    "        if result:\n",
    "            # if URL has already been ingested, skip to the next URL\n",
    "            print(f\"{url} has already been ingested into the Price table.\")\n",
    "            continue\n",
    "\n",
    "        # read parquet file from URL\n",
    "        response = requests.get(url)\n",
    "        content = response.content\n",
    "        pricecatcher_df = pd.read_parquet(io.BytesIO(content))\n",
    "        \n",
    "        \n",
    "\n",
    "        # add 'source' column to dataframe with the URL as its value\n",
    "        pricecatcher_df['source'] = url\n",
    "\n",
    "        # Slice the date column into day, month, and year columns\n",
    "        pricecatcher_df['date'] = pd.to_datetime(pricecatcher_df['date'])\n",
    "        pricecatcher_df['day'] = pricecatcher_df['date'].dt.day\n",
    "        pricecatcher_df['month'] = pricecatcher_df['date'].dt.month\n",
    "        pricecatcher_df['year'] = pricecatcher_df['date'].dt.year\n",
    "        \n",
    "        # append data to the Price table using to_sql() function\n",
    "        pricecatcher_df.to_sql('Price', conn, if_exists='append', index=False)\n",
    "\n",
    "        # insert URL into IngestedURLs table\n",
    "        conn.execute(f\"INSERT INTO IngestedURLs (url) VALUES ('{url}')\")\n",
    "\n",
    "        # print message when data ingestion is complete\n",
    "        print(f\"{url} ingested into the Price table.\")\n",
    "\n",
    "    # print message when data ingestion is complete\n",
    "    print('Price data ingestion complete.')"
   ]
  },
  {
   "cell_type": "code",
   "execution_count": 3,
   "id": "e7aa46f4",
   "metadata": {},
   "outputs": [],
   "source": [
    "# engine = create_engine('sqlite:///DOSM', echo=False)\n",
    "conn = sqlite3.connect('DOSM.db')\n",
    "c = conn.cursor()\n"
   ]
  },
  {
   "cell_type": "code",
   "execution_count": 4,
   "id": "c80da0b5",
   "metadata": {},
   "outputs": [
    {
     "data": {
      "text/plain": [
       "<sqlite3.Cursor at 0x289194b1110>"
      ]
     },
     "execution_count": 4,
     "metadata": {},
     "output_type": "execute_result"
    }
   ],
   "source": [
    "# create Item table\n",
    "conn.execute('''CREATE TABLE IF NOT EXISTS Item\n",
    "             (item_code INTEGER PRIMARY KEY,\n",
    "             item_category TEXT,\n",
    "             item TEXT,\n",
    "             unit TEXT,\n",
    "             item_group TEXT)''')\n",
    "\n",
    "# create Premise table\n",
    "conn.execute('''CREATE TABLE IF NOT EXISTS Premise\n",
    "             (premise_code INTEGER PRIMARY KEY,\n",
    "             premise TEXT,\n",
    "             address TEXT,\n",
    "             premise_type TEXT,\n",
    "             state TEXT,\n",
    "             district TEXT)''')\n",
    "\n",
    "# create Price table\n",
    "conn.execute('''CREATE TABLE IF NOT EXISTS Price\n",
    "             (item_code INTEGER,\n",
    "             premise_code INTEGER,\n",
    "             price REAL,\n",
    "             date DATE,\n",
    "             source TEXT,\n",
    "             day  INTEGER,\n",
    "             month INTEGER,\n",
    "             year INTEGER,\n",
    "             FOREIGN KEY (item_code) REFERENCES Item(item_code),\n",
    "             FOREIGN KEY (premise_code) REFERENCES Premise(premise_code))''')\n"
   ]
  },
  {
   "cell_type": "code",
   "execution_count": 5,
   "id": "e32f75a3",
   "metadata": {},
   "outputs": [
    {
     "data": {
      "text/plain": [
       "<sqlite3.Cursor at 0x28919428dc0>"
      ]
     },
     "execution_count": 5,
     "metadata": {},
     "output_type": "execute_result"
    }
   ],
   "source": [
    "item_df = pd.read_parquet('https://storage.googleapis.com/dosm-public-pricecatcher/lookup_item.parquet')\n",
    "premise_df = pd.read_parquet('https://storage.googleapis.com/dosm-public-pricecatcher/lookup_premise.parquet')\n",
    "\n",
    "item_df.to_sql('Item', conn, if_exists='append', index=False)\n",
    "premise_df.to_sql('Premise', conn, if_exists='append', index=False)\n",
    "\n",
    "\n",
    "#create index to optimise\n",
    "# Create an index on the 'item_category' column\n",
    "c.execute('CREATE INDEX IF NOT EXISTS idx_item_category ON Item (item_category)')\n",
    "\n",
    "# Create an index on the 'year' column\n",
    "c.execute('CREATE INDEX IF NOT EXISTS idx_year ON Price (year)')\n",
    "\n",
    "# Create an index on the 'month' column\n",
    "c.execute('CREATE INDEX IF NOT EXISTS idx_month ON Price (month)')\n",
    "\n",
    "# Create an index on the 'day' column\n",
    "c.execute('CREATE INDEX IF NOT EXISTS idx_day ON Price (day)')\n"
   ]
  },
  {
   "cell_type": "code",
   "execution_count": 6,
   "id": "275c2006",
   "metadata": {},
   "outputs": [
    {
     "name": "stdout",
     "output_type": "stream",
     "text": [
      "https://storage.googleapis.com/dosm-public-pricecatcher/pricecatcher_2022-01.parquet has already been ingested into the Price table.\n",
      "https://storage.googleapis.com/dosm-public-pricecatcher/pricecatcher_2022-02.parquet has already been ingested into the Price table.\n",
      "https://storage.googleapis.com/dosm-public-pricecatcher/pricecatcher_2022-03.parquet has already been ingested into the Price table.\n",
      "https://storage.googleapis.com/dosm-public-pricecatcher/pricecatcher_2022-04.parquet has already been ingested into the Price table.\n",
      "https://storage.googleapis.com/dosm-public-pricecatcher/pricecatcher_2022-05.parquet has already been ingested into the Price table.\n",
      "https://storage.googleapis.com/dosm-public-pricecatcher/pricecatcher_2022-06.parquet has already been ingested into the Price table.\n",
      "https://storage.googleapis.com/dosm-public-pricecatcher/pricecatcher_2022-07.parquet has already been ingested into the Price table.\n",
      "https://storage.googleapis.com/dosm-public-pricecatcher/pricecatcher_2022-08.parquet has already been ingested into the Price table.\n",
      "https://storage.googleapis.com/dosm-public-pricecatcher/pricecatcher_2022-09.parquet has already been ingested into the Price table.\n",
      "https://storage.googleapis.com/dosm-public-pricecatcher/pricecatcher_2022-10.parquet has already been ingested into the Price table.\n",
      "https://storage.googleapis.com/dosm-public-pricecatcher/pricecatcher_2022-11.parquet has already been ingested into the Price table.\n",
      "https://storage.googleapis.com/dosm-public-pricecatcher/pricecatcher_2022-12.parquet has already been ingested into the Price table.\n",
      "https://storage.googleapis.com/dosm-public-pricecatcher/pricecatcher_2023-01.parquet has already been ingested into the Price table.\n",
      "https://storage.googleapis.com/dosm-public-pricecatcher/pricecatcher_2023-02.parquet has already been ingested into the Price table.\n",
      "https://storage.googleapis.com/dosm-public-pricecatcher/pricecatcher_2023-03.parquet has already been ingested into the Price table.\n",
      "Price data ingestion complete.\n"
     ]
    }
   ],
   "source": [
    "ingest_pricecatcher_data(conn)\n",
    "\n",
    "conn.commit()\n",
    "conn.close()"
   ]
  },
  {
   "cell_type": "code",
   "execution_count": null,
   "id": "cc20eb93",
   "metadata": {},
   "outputs": [],
   "source": []
  }
 ],
 "metadata": {
  "kernelspec": {
   "display_name": "Python 3 (ipykernel)",
   "language": "python",
   "name": "python3"
  },
  "language_info": {
   "codemirror_mode": {
    "name": "ipython",
    "version": 3
   },
   "file_extension": ".py",
   "mimetype": "text/x-python",
   "name": "python",
   "nbconvert_exporter": "python",
   "pygments_lexer": "ipython3",
   "version": "3.9.13"
  }
 },
 "nbformat": 4,
 "nbformat_minor": 5
}
